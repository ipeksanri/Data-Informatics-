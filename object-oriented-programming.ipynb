{
 "cells": [
  {
   "attachments": {},
   "cell_type": "markdown",
   "metadata": {},
   "source": [
    "### **IS 545 Object Oriented Programming and Data Structures**\n",
    "\n",
    "# Assignment 1\n",
    "\n",
    "Upload your solutions (as an **ipynb** file) to the [odtuclass](https://odtuclass.metu.edu.tr/) web site for the course.\n",
    "\n",
    "**Deadline:** Please check odtuclass.\n",
    "\n",
    "**Late submissions:** Will incur a -1% penalty per hour after the deadline.\n",
    "\n",
    "You are expected to work **by yourselves**,  <u>NOT in groups</u>. You are also be expected to follow **the academic integrity rules**.\n",
    "\n",
    "## Requirements\n",
    "- You are not allowed to copy code snippets from the internet, these attempts will get **zero points** for the related question.\n",
    "- Do not import any external library unless otherwise specified! Good news is, for your first assignment those are imported for you.\n",
    "- Make sure you write your code starting from the next line after phrases like `YOUR CODE HERE` or `YOUR ANSWER HERE`\n",
    "- Do not change any code given in the questions other than the area described above\n",
    "\n",
    "## Important!\n",
    "- Be sure to delete ```raise NotImplementedError()``` statement before writing your solution. Be sure to run your code and not have any exceptions unless the question is about raising an exception.\n"
   ]
  },
  {
   "cell_type": "markdown",
   "metadata": {},
   "source": [
    "## Prerequisites\n",
    "Read the tutorial in python.org web site and answer the questions.\n",
    "\n",
    "https://docs.python.org/3/tutorial/\n"
   ]
  },
  {
   "attachments": {},
   "cell_type": "markdown",
   "metadata": {},
   "source": [
    "## Student Info (fill the fields below)\n",
    "\n",
    "Name: İPEK SANRI\n",
    "\n",
    "ID: 2219897"
   ]
  },
  {
   "cell_type": "markdown",
   "metadata": {},
   "source": [
    "## Q01 (5 pts)\n",
    "Where does the name of the language \"Python\" come from? Write your answer as a comment line in Python language. Length of **that** comment line should not exceed 100 characters"
   ]
  },
  {
   "cell_type": "code",
   "execution_count": 49,
   "metadata": {},
   "outputs": [],
   "source": [
    "# ============ YOUR CODE HERE ============\n",
    "#Python is named after the BBC show \"Monty Python's Flying Circus\". It does not reference snakes.\n",
    "# ========================================"
   ]
  },
  {
   "cell_type": "markdown",
   "metadata": {},
   "source": [
    "## Q02 (5 pts)\n",
    "Declare a variable called **first_name** and assign it to a **string literal** containing your name."
   ]
  },
  {
   "cell_type": "code",
   "execution_count": 50,
   "metadata": {},
   "outputs": [],
   "source": [
    "# ============ YOUR CODE HERE ============\n",
    "first_name = \"ipek\"\n",
    "# ========================================"
   ]
  },
  {
   "cell_type": "markdown",
   "metadata": {},
   "source": [
    "## Q03 (5 pts)\n",
    "Declare a list with the name **list_by_literal** and assign it to ordered **positive integers** that are multiples of 5 and less than 33 using **list literal**."
   ]
  },
  {
   "cell_type": "code",
   "execution_count": 51,
   "metadata": {},
   "outputs": [
    {
     "name": "stdout",
     "output_type": "stream",
     "text": [
      "[0, 5, 10, 15, 20, 25, 30]\n"
     ]
    }
   ],
   "source": [
    "# ============ YOUR CODE HERE ============\n",
    "\n",
    "list_by_literal = [0, 5, 10, 15, 20, 25, 30]\n",
    "print(list_by_literal)\n",
    "\n",
    "# ========================================"
   ]
  },
  {
   "cell_type": "code",
   "execution_count": 52,
   "metadata": {},
   "outputs": [],
   "source": [
    "# check your answer satisfies the following tests\n",
    "assert type(list_by_literal) == list"
   ]
  },
  {
   "cell_type": "markdown",
   "metadata": {},
   "source": [
    "## Q04 (5 pts)\n",
    "Declare a list with the name **list_by_range** and assign it to ordered **positive integers** that are multiples of 5 and less than 33 using **list constructor with range function as its argument**.\n"
   ]
  },
  {
   "cell_type": "code",
   "execution_count": 53,
   "metadata": {},
   "outputs": [
    {
     "name": "stdout",
     "output_type": "stream",
     "text": [
      "[0, 5, 10, 15, 20, 25, 30]\n"
     ]
    }
   ],
   "source": [
    "# ============ YOUR CODE HERE ============\n",
    "list_by_range = list(range(0,33, 5))\n",
    "print(list_by_range)\n",
    "# ========================================"
   ]
  },
  {
   "cell_type": "code",
   "execution_count": 54,
   "metadata": {},
   "outputs": [],
   "source": [
    "# check your answer satisfies the following tests\n",
    "assert type(list_by_range) == list"
   ]
  },
  {
   "cell_type": "markdown",
   "metadata": {},
   "source": [
    "## Q05 (5 pts)\n",
    "Declare a list with the name **list_by_comprehension** and assign it to ordered **positive integers** that are multiples of 5 and less than 33 using **list comprehension** syntax."
   ]
  },
  {
   "cell_type": "code",
   "execution_count": 55,
   "metadata": {},
   "outputs": [
    {
     "name": "stdout",
     "output_type": "stream",
     "text": [
      "[5, 10, 15, 20, 25, 30]\n"
     ]
    }
   ],
   "source": [
    "# ============ YOUR CODE HERE ============\n",
    "list_by_comprehension = [i for i in range(1, 33) if i%5==0]\n",
    "\n",
    "print(list_by_comprehension)\n",
    "    \n",
    "# ========================================"
   ]
  },
  {
   "cell_type": "code",
   "execution_count": 56,
   "metadata": {},
   "outputs": [],
   "source": [
    "# check your answer satisfies the following tests\n",
    "assert type(list_by_comprehension) == list"
   ]
  },
  {
   "cell_type": "markdown",
   "metadata": {},
   "source": [
    "## Q06 (5 pts)\n",
    "Declare a frozenset with the name **fset_by_range** and assign it to the odd positive integers between 21 and 33 (both included) using **range** function"
   ]
  },
  {
   "cell_type": "code",
   "execution_count": 57,
   "metadata": {},
   "outputs": [
    {
     "name": "stdout",
     "output_type": "stream",
     "text": [
      "frozenset({33, 21, 23, 25, 27, 29, 31})\n"
     ]
    }
   ],
   "source": [
    "# ============ YOUR CODE HERE ============\n",
    "fset_by_range = frozenset(i for i in range(20,34) if i%2==1)\n",
    "print(fset_by_range)\n",
    "# ========================================"
   ]
  },
  {
   "cell_type": "code",
   "execution_count": 58,
   "metadata": {},
   "outputs": [],
   "source": [
    "# check your answer satisfies the following tests\n",
    "assert type(fset_by_range) == frozenset"
   ]
  },
  {
   "cell_type": "markdown",
   "metadata": {},
   "source": [
    "## Q07 (10 pts)\n",
    "Write a code block using **while statement** that appends the following integers into the list **list_q7** in the given order. (Each iteration of the loop should append a single value only)\n",
    "\n",
    "30,25,20,15,10,5\n"
   ]
  },
  {
   "cell_type": "code",
   "execution_count": 59,
   "metadata": {},
   "outputs": [
    {
     "name": "stdout",
     "output_type": "stream",
     "text": [
      "30\n",
      "25\n",
      "20\n",
      "15\n",
      "10\n",
      "5\n"
     ]
    },
    {
     "data": {
      "text/plain": [
       "[]"
      ]
     },
     "execution_count": 59,
     "metadata": {},
     "output_type": "execute_result"
    }
   ],
   "source": [
    "list_q7 = []\n",
    "# hint: you can use list.append(99) statement to append 99 to the end\n",
    "# ============ YOUR CODE HERE ============\n",
    "\n",
    "current_value = 30\n",
    "while current_value >= 5:\n",
    "    print(current_value)\n",
    "    current_value -= 5\n",
    "    \n",
    "   \n",
    "\n",
    "# ========================================\n",
    "list_q7"
   ]
  },
  {
   "cell_type": "code",
   "execution_count": 60,
   "metadata": {},
   "outputs": [],
   "source": [
    "# check your answer satisfies the following tests\n",
    "assert type(list_q7) == list"
   ]
  },
  {
   "cell_type": "markdown",
   "metadata": {},
   "source": [
    "## Q08 (10 pts)\n",
    "Define a Python function that gets a test score as input and returns corresponding grade as output according to the following table using **if/elif/else statements**. Note: 80-90:  [80,90) meaning that 90 is excluded. Check `intervals in math open close` in your favorite search engine if required:\n",
    "\n",
    "|Score|Letter Grade|\n",
    "|----------|------------|\n",
    "|90 and above|A|\n",
    "|80-90|B|\n",
    "|70-80|C|\n",
    "|60-70|D|\n",
    "|otherwise|F|\n",
    "This function should raise **ValueError** if the percentage input is not in the range of 0-100\n"
   ]
  },
  {
   "cell_type": "code",
   "execution_count": 61,
   "metadata": {},
   "outputs": [
    {
     "data": {
      "text/plain": [
       "'B'"
      ]
     },
     "execution_count": 61,
     "metadata": {},
     "output_type": "execute_result"
    }
   ],
   "source": [
    "def score_to_grade(pct):\n",
    "   # ============ YOUR CODE HERE ============\n",
    "   \n",
    "    if pct >=90 and pct <= 100:\n",
    "        return \"A\"\n",
    "    elif pct >=80 and pct <= 89:\n",
    "        return \"B\"\n",
    "    elif pct >=70 and pct <= 79:\n",
    "        return \"C\"\n",
    "    elif pct >=60 and pct <= 69:\n",
    "        return \"D\"\n",
    "    elif pct <= 70 and pct >=0:\n",
    "        return \"F\"\n",
    "    else:\n",
    "        raise ValueError(\"please enter a number between 0 and 100\")\n",
    "\n",
    "\n",
    "    # ========================================\n",
    "score_to_grade(80)"
   ]
  },
  {
   "cell_type": "code",
   "execution_count": 62,
   "metadata": {},
   "outputs": [],
   "source": [
    "# check your answer satisfies the following tests\n",
    "assert score_to_grade(100.0) == \"A\"\n",
    "assert score_to_grade(0.0) == \"F\""
   ]
  },
  {
   "cell_type": "markdown",
   "metadata": {},
   "source": [
    "## Q09 (10 pts)\n",
    "Write a function with signature **sort_str(s)** which takes and input string and returns the sorted version of its characters. for example, if input argument is 'hello 545', the return value should be ' 455ehllo'. You can make use core python functions that does not require an ```import``` statement or code sorting algorithms by yourselves."
   ]
  },
  {
   "cell_type": "code",
   "execution_count": 63,
   "metadata": {},
   "outputs": [
    {
     "data": {
      "text/plain": [
       "' 455ehllo'"
      ]
     },
     "execution_count": 63,
     "metadata": {},
     "output_type": "execute_result"
    }
   ],
   "source": [
    "def sort_str(s):\n",
    "# ============ YOUR CODE HERE ============\n",
    "    s_sorted = sorted(s)\n",
    "    s_empty = \"\"\n",
    "    for i in s_sorted:\n",
    "        s_empty += i \n",
    "    return s_empty\n",
    "sort_str(\"hello 545\")\n",
    "# ========================================\n"
   ]
  },
  {
   "cell_type": "code",
   "execution_count": 64,
   "metadata": {},
   "outputs": [],
   "source": [
    "# check your answer satisfies the following tests\n",
    "assert sort_str('hello 545') == ' 455ehllo'"
   ]
  },
  {
   "cell_type": "markdown",
   "metadata": {},
   "source": [
    "## Q10 (10 pts)\n",
    "Write an expression using Python’s **list comprehension** syntax to produce the list \n",
    "~~~~Python\n",
    "[25, 49, 64, 100, 121, 169, 196, 256, 289]\n",
    "~~~~\n",
    "and assign this object to a variable **list_q10**.\n",
    "\n",
    "Hint: these numbers are squares of an arithmetic sequence with some irregularity applied such as [.., 10, 11, 13, 14, ..]."
   ]
  },
  {
   "cell_type": "code",
   "execution_count": 65,
   "metadata": {},
   "outputs": [
    {
     "name": "stdout",
     "output_type": "stream",
     "text": [
      "[25, 49, 64, 100, 121, 169, 196, 256, 289]\n"
     ]
    }
   ],
   "source": [
    "# ============ YOUR CODE HERE ============\n",
    "list_q10 =  [i*i for i in [5, 7, 8, 10, 11, 13, 14, 16, 17]]\n",
    "\n",
    "print(list_q10)\n",
    "# ========================================"
   ]
  },
  {
   "cell_type": "code",
   "execution_count": 66,
   "metadata": {},
   "outputs": [],
   "source": [
    "# check your answer satisfies the following tests\n",
    "assert type(list_q10) == list"
   ]
  },
  {
   "attachments": {},
   "cell_type": "markdown",
   "metadata": {},
   "source": [
    "## Q11 (10 pts)\n",
    "Write Python function **triangular(N)** that creates a triangular 2D list of integers. You have to fill the item `(row,col)` of the list with `row * col` where `1 <= row <= N` and `row >= col`.\n",
    "\n",
    "Note that you **should not print a string**, you should **create a list object**!\n",
    "\n",
    "For example, with N = 5, the return value of the function should be the following list of lists:\n",
    "~~~~\n",
    "[\n",
    "[1], \n",
    "[2, 4], \n",
    "[3, 6, 9], \n",
    "[4, 8, 12, 16],\n",
    "[5, 10, 15, 20, 25],\n",
    "]\n",
    "~~~~\n"
   ]
  },
  {
   "cell_type": "code",
   "execution_count": 67,
   "metadata": {},
   "outputs": [
    {
     "name": "stdout",
     "output_type": "stream",
     "text": [
      "[\n",
      "[1]\n",
      "[2, 4]\n",
      "[3, 6, 9]\n",
      "[4, 8, 12, 16]\n",
      "[5, 10, 15, 20, 25]\n",
      "]\n"
     ]
    },
    {
     "data": {
      "text/plain": [
       "[[1], [2, 4], [3, 6, 9], [4, 8, 12, 16], [5, 10, 15, 20, 25]]"
      ]
     },
     "execution_count": 67,
     "metadata": {},
     "output_type": "execute_result"
    }
   ],
   "source": [
    "def triangular(N):\n",
    "    # ============ YOUR CODE HERE ============\n",
    "    list_ = []\n",
    "    print(\"[\")\n",
    "    for i in range(1,N+1):\n",
    "        for j in range (1,i+1):\n",
    "            list_col = []\n",
    "            for k in range (1,j+1):\n",
    "                list_col.append(j*k)\n",
    "        print(list_col)\n",
    "        list_.append(list_col)\n",
    "    print(\"]\"),\n",
    "    return list_\n",
    "# ========================================\n",
    "triangular(5)"
   ]
  },
  {
   "cell_type": "code",
   "execution_count": 68,
   "metadata": {},
   "outputs": [
    {
     "name": "stdout",
     "output_type": "stream",
     "text": [
      "[\n",
      "[1]\n",
      "[2, 4]\n",
      "[3, 6, 9]\n",
      "[4, 8, 12, 16]\n",
      "[5, 10, 15, 20, 25]\n",
      "[6, 12, 18, 24, 30, 36]\n",
      "[7, 14, 21, 28, 35, 42, 49]\n",
      "[8, 16, 24, 32, 40, 48, 56, 64]\n",
      "[9, 18, 27, 36, 45, 54, 63, 72, 81]\n",
      "[10, 20, 30, 40, 50, 60, 70, 80, 90, 100]\n",
      "]\n"
     ]
    }
   ],
   "source": [
    "# check your answer satisfies the following tests\n",
    "assert type(triangular(10)) == list"
   ]
  },
  {
   "cell_type": "markdown",
   "metadata": {},
   "source": [
    "## Q12 (10 pts) (Allowed modules: random)\n",
    "Write a function **roll_two_dice(trick)**\n",
    "\n",
    "trick is a boolean parameter; \n",
    "\n",
    "When trick is false the return value should be a tuple of two random numbers between 1 and 6 for a pair of fair dice.\n",
    "\n",
    "When trick is true, the sum of two dice values should be seven and the first value in the tuple should be less than the second value, i.e. the result should be one of the following combinations randomly:\n",
    "\n",
    "(1,6),(2,5),(3,4)"
   ]
  },
  {
   "cell_type": "code",
   "execution_count": 69,
   "metadata": {},
   "outputs": [
    {
     "data": {
      "text/plain": [
       "(3, 4)"
      ]
     },
     "execution_count": 69,
     "metadata": {},
     "output_type": "execute_result"
    }
   ],
   "source": [
    "import random\n",
    "\n",
    "def roll_two_dice(trick):\n",
    "     # ============ YOUR CODE HERE ============\n",
    "    if trick == False:\n",
    "        return (random.randint(a=1, b=6), random.randint(a=1,b=6))\n",
    "    else:\n",
    "        first_element = (random.randint(a=1, b=3))\n",
    "        second_element = (7-first_element)\n",
    "        return (first_element, second_element)\n",
    "                            \n",
    "    # ========================================\n",
    "roll_two_dice(trick=True)"
   ]
  },
  {
   "cell_type": "code",
   "execution_count": 70,
   "metadata": {},
   "outputs": [],
   "source": [
    "# check your answer satisfies the following tests\n",
    "t = roll_two_dice(True)\n",
    "assert t[0] + t[1] == 7\n",
    "assert t[0] < t[1]"
   ]
  },
  {
   "cell_type": "markdown",
   "metadata": {},
   "source": [
    "## Q13 (10 pts) (Allowed modules: math)\n",
    "Write a function **monthly_payment(loan, months, rate)** that returns fixed monthly payment to amortize a mortgage loan, where\n",
    "- **loan** is the total amount of loan in liras\n",
    "- **months** is the number of months to pay\n",
    "- **rate** is the monthly(!) interest rate as **percentage** (%)\n",
    "\n",
    "\n",
    "The following formula is used to calculate the fixed monthly payment (P) required to fully amortize a loan of _L_ liras over a term of _n_ months at a monthly interest rate of _c_ (think of converting percentage to a meaningful value before adding it to 1).\n",
    "\n",
    "$$\n",
    "\tP = L \\times c \\times \\frac{(1 + c)^n}{(1 + c)^n - 1} \n",
    "$$\n",
    "assuming $ c \\neq 0 $\n",
    "\n",
    "Remember to handle the case that the interest rate is zero as well!\n"
   ]
  },
  {
   "cell_type": "code",
   "execution_count": 71,
   "metadata": {},
   "outputs": [
    {
     "data": {
      "text/plain": [
       "80000.00000000001"
      ]
     },
     "execution_count": 71,
     "metadata": {},
     "output_type": "execute_result"
    }
   ],
   "source": [
    "import math\n",
    "\n",
    "def monthly_payment(loan, months, rate):\n",
    "    # ============ YOUR CODE HERE ============\n",
    "    k = pow(1+rate, months)\n",
    "    m = k-1\n",
    "    p = loan*rate*k/m\n",
    "    return p\n",
    "    # ========================================\n",
    "monthly_payment(100000,120,0.8)"
   ]
  },
  {
   "cell_type": "code",
   "execution_count": 72,
   "metadata": {},
   "outputs": [],
   "source": [
    "# check your answer satisfies the following tests\n",
    "# for 10 years loan of 100 thousand liras with monthly 0.80% interest rate\n",
    "assert 1299.5-monthly_payment(100000,120,0.8) < 0.1"
   ]
  },
  {
   "cell_type": "markdown",
   "metadata": {},
   "source": [
    "## Q14 (0 pts, exercise)\n",
    "Write a function with signature **minxy(polynomial, xrng)** where\n",
    "\n",
    "polynomial is a tuple of (a0,a1,a2,..) with the coefficients of a polynomial function a0 + a1 x + a2 x^2 + ....\n",
    "\n",
    "xrng is an iteration for x of floating point values such as [0.1,0.2,0.3,....., 4.9, 5.0}\n",
    "\n",
    "For example:\n",
    "\n",
    "if the polynomial is (-12,-23,-9,3,1) \n",
    "\n",
    "and xrng is (-5.0,-4.9,...,-0.1,0,0.1,...,4.9,5.0))\n",
    "\n",
    "The function y = x^4+3x^3-9x^2-23x-12 is constructed in that range as shown in the following plot"
   ]
  },
  {
   "cell_type": "code",
   "execution_count": 73,
   "metadata": {},
   "outputs": [
    {
     "data": {
      "text/plain": [
       "[<matplotlib.lines.Line2D at 0x28800008a30>]"
      ]
     },
     "execution_count": 73,
     "metadata": {},
     "output_type": "execute_result"
    },
    {
     "data": {
      "image/png": "[encoded data removed]",
      "text/plain": [
       "<Figure size 640x480 with 1 Axes>"
      ]
     },
     "metadata": {},
     "output_type": "display_data"
    }
   ],
   "source": [
    "#THIS ROUTINE PLOTS THE EXAMPLE DESCRIBED ABOVE\n",
    "import matplotlib.pyplot as plt\n",
    "x=[i/10.0 for i in range(-50,50)]\n",
    "y=[x**4+3*x**3-9*x**2-23*x-12 for x in x]\n",
    "plt.plot(x,y)"
   ]
  },
  {
   "cell_type": "markdown",
   "metadata": {},
   "source": [
    "The return value of the minxy function should be a tuple of (x_res,y_res) where y_res is the minimum value in the range defined by xrng and x_res is the x value of the minimum y.\n",
    "The return value should be (1.9,-54.5809) for this example."
   ]
  },
  {
   "cell_type": "code",
   "execution_count": 74,
   "metadata": {},
   "outputs": [],
   "source": [
    "def _poly(polynomial, x):\n",
    "    \"\"\" \n",
    "    Utility function to be used in minxy\n",
    "    Computes y at x for given coefficients in polynomial\n",
    "    \"\"\"\n",
    "    # ============ YOUR CODE HERE ============\n",
    "    \n",
    "    # ========================================\n",
    "\n",
    "def minxy(polynomial, xrng):\n",
    "    # ============ YOUR CODE HERE ============\n",
    "    raise NotImplementedError()\n",
    "    # ========================================\n"
   ]
  },
  {
   "cell_type": "code",
   "execution_count": 75,
   "metadata": {},
   "outputs": [
    {
     "ename": "NotImplementedError",
     "evalue": "",
     "output_type": "error",
     "traceback": [
      "\u001b[1;31m---------------------------------------------------------------------------\u001b[0m",
      "\u001b[1;31mNotImplementedError\u001b[0m                       Traceback (most recent call last)",
      "Cell \u001b[1;32mIn[75], line 2\u001b[0m\n\u001b[0;32m      1\u001b[0m \u001b[39m# check your answer satisfies the following tests\u001b[39;00m\n\u001b[1;32m----> 2\u001b[0m \u001b[39massert\u001b[39;00m \u001b[39m38\u001b[39m \u001b[39m==\u001b[39m _poly((\u001b[39m4\u001b[39;49m,\u001b[39m5\u001b[39;49m,\u001b[39m6\u001b[39;49m),\u001b[39m2\u001b[39;49m) \u001b[39m# 4 + 5*2 + 6*(2**2)\u001b[39;00m\n\u001b[0;32m      3\u001b[0m mx,my \u001b[39m=\u001b[39m minxy((\u001b[39m-\u001b[39m\u001b[39m12\u001b[39m,\u001b[39m-\u001b[39m\u001b[39m23\u001b[39m,\u001b[39m-\u001b[39m\u001b[39m9\u001b[39m,\u001b[39m3\u001b[39m,\u001b[39m1\u001b[39m), (i\u001b[39m*\u001b[39m\u001b[39m0.1\u001b[39m \u001b[39mfor\u001b[39;00m i \u001b[39min\u001b[39;00m \u001b[39mrange\u001b[39m(\u001b[39m-\u001b[39m\u001b[39m50\u001b[39m,\u001b[39m50\u001b[39m)))\n\u001b[0;32m      4\u001b[0m \u001b[39massert\u001b[39;00m mx \u001b[39m-\u001b[39m \u001b[39m1.9\u001b[39m \u001b[39m<\u001b[39m \u001b[39m0.01\u001b[39m\n",
      "Cell \u001b[1;32mIn[74], line 7\u001b[0m, in \u001b[0;36m_poly\u001b[1;34m(polynomial, x)\u001b[0m\n\u001b[0;32m      2\u001b[0m \u001b[39m\u001b[39m\u001b[39m\"\"\" \u001b[39;00m\n\u001b[0;32m      3\u001b[0m \u001b[39mUtility function to be used in minxy\u001b[39;00m\n\u001b[0;32m      4\u001b[0m \u001b[39mComputes y at x for given coefficients in polynomial\u001b[39;00m\n\u001b[0;32m      5\u001b[0m \u001b[39m\"\"\"\u001b[39;00m\n\u001b[0;32m      6\u001b[0m \u001b[39m# ============ YOUR CODE HERE ============\u001b[39;00m\n\u001b[1;32m----> 7\u001b[0m \u001b[39mraise\u001b[39;00m \u001b[39mNotImplementedError\u001b[39;00m()\n",
      "\u001b[1;31mNotImplementedError\u001b[0m: "
     ]
    }
   ],
   "source": [
    "# check your answer satisfies the following tests\n",
    "assert 38 == _poly((4,5,6),2) # 4 + 5*2 + 6*(2**2)\n",
    "mx,my = minxy((-12,-23,-9,3,1), (i*0.1 for i in range(-50,50)))\n",
    "assert mx - 1.9 < 0.01\n",
    "assert my - (-54.59) < 0.01"
   ]
  },
  {
   "cell_type": "code",
   "execution_count": null,
   "metadata": {},
   "outputs": [],
   "source": []
  }
 ],
 "metadata": {
  "kernelspec": {
   "display_name": "Python 3.10.6 64-bit",
   "language": "python",
   "name": "python3"
  },
  "language_info": {
   "codemirror_mode": {
    "name": "ipython",
    "version": 3
   },
   "file_extension": ".py",
   "mimetype": "text/x-python",
   "name": "python",
   "nbconvert_exporter": "python",
   "pygments_lexer": "ipython3",
   "version": "3.9.7"
  },
  "vscode": {
   "interpreter": {
    "hash": "6a48581e28d45680af6ef7ae6138d429f6e20aecedaea2d4b58ab16969b43f7e"
   }
  }
 },
 "nbformat": 4,
 "nbformat_minor": 2
}
